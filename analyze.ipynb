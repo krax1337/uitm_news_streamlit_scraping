{
 "cells": [
  {
   "cell_type": "code",
   "execution_count": 2,
   "metadata": {
    "collapsed": true,
    "ExecuteTime": {
     "start_time": "2023-05-10T21:59:53.285541Z",
     "end_time": "2023-05-10T22:00:18.687548Z"
    }
   },
   "outputs": [
    {
     "name": "stdout",
     "output_type": "stream",
     "text": [
      "CYCLE 1\n",
      "https://en.uitm.edu.eu/news/page/1/?wpv_view_count=505\n",
      "CYCLE 2\n",
      "https://en.uitm.edu.eu/news/page/2/?wpv_view_count=505\n",
      "CYCLE 3\n",
      "https://en.uitm.edu.eu/news/page/3/?wpv_view_count=505\n",
      "CYCLE 4\n",
      "https://en.uitm.edu.eu/news/page/4/?wpv_view_count=505\n",
      "CYCLE 5\n",
      "https://en.uitm.edu.eu/news/page/5/?wpv_view_count=505\n",
      "CYCLE 6\n",
      "https://en.uitm.edu.eu/news/page/6/?wpv_view_count=505\n",
      "CYCLE 7\n",
      "https://en.uitm.edu.eu/news/page/7/?wpv_view_count=505\n",
      "CYCLE 8\n",
      "https://en.uitm.edu.eu/news/page/8/?wpv_view_count=505\n",
      "CYCLE 9\n",
      "https://en.uitm.edu.eu/news/page/9/?wpv_view_count=505\n",
      "CYCLE 10\n",
      "https://en.uitm.edu.eu/news/page/10/?wpv_view_count=505\n",
      "Skipped because of 'NoneType' object has no attribute 'getText'\n",
      "CYCLE 11\n",
      "https://en.uitm.edu.eu/news/page/11/?wpv_view_count=505\n",
      "CYCLE 12\n",
      "https://en.uitm.edu.eu/news/page/12/?wpv_view_count=505\n",
      "CYCLE 13\n",
      "https://en.uitm.edu.eu/news/page/13/?wpv_view_count=505\n",
      "CYCLE 14\n",
      "https://en.uitm.edu.eu/news/page/14/?wpv_view_count=505\n",
      "CYCLE 15\n",
      "https://en.uitm.edu.eu/news/page/15/?wpv_view_count=505\n",
      "CYCLE 16\n",
      "https://en.uitm.edu.eu/news/page/16/?wpv_view_count=505\n",
      "CYCLE 17\n",
      "https://en.uitm.edu.eu/news/page/17/?wpv_view_count=505\n",
      "CYCLE 18\n",
      "https://en.uitm.edu.eu/news/page/18/?wpv_view_count=505\n",
      "CYCLE 19\n",
      "https://en.uitm.edu.eu/news/page/19/?wpv_view_count=505\n",
      "CYCLE 20\n",
      "https://en.uitm.edu.eu/news/page/20/?wpv_view_count=505\n"
     ]
    }
   ],
   "source": [
    "from parser_test import *\n",
    "\n",
    "df = pd.DataFrame(get_news(get_pages()))"
   ]
  },
  {
   "cell_type": "code",
   "execution_count": 8,
   "outputs": [
    {
     "data": {
      "text/plain": "          date                                              title   \n0   2023-04-21  Tour de UITM – Cycling to health on the Green ...  \\\n1   2023-04-06  UITM’s Easter Extravaganza: Celebrating with F...   \n2   2023-03-31  Melting the Pot Festival Day 2: Student Talk S...   \n3   2023-03-31      The Melting Pot Festival kicks off at IQ Club   \n4   2023-03-27  Central Asia Day: Celebrating Culture, History...   \n..         ...                                                ...   \n225 2018-06-08  UITM Ranked High in Prestigious „Perspektywy” ...   \n226 2018-05-24  UITM in Elite Group of Universities with UN Ce...   \n227 2018-05-24  UITM Students among scholarship holders of the...   \n228 2018-05-24  Millions for internships. Don’t miss this uniq...   \n229 2018-05-24  UITM Receives University of Leaders 2017 Natio...   \n\n                                                  text  \n0    First edition of Tour de UITM! University of I...  \n1    Traditional Polish dishes, e.g. sour rye soup,...  \n2    Four International Students Share Their Experi...  \n3    International students compete in the “What? W...  \n4    International Student Support Office organized...  \n..                                                 ...  \n225  The latest Ranking of Non-Public Master Degree...  \n226  The University of Information Technology and M...  \n227  The scholarships of the Minister of Science an...  \n228  Are you sure that your studies will prepare yo...  \n229  The University of Information Technology and M...  \n\n[230 rows x 3 columns]",
      "text/html": "<div>\n<style scoped>\n    .dataframe tbody tr th:only-of-type {\n        vertical-align: middle;\n    }\n\n    .dataframe tbody tr th {\n        vertical-align: top;\n    }\n\n    .dataframe thead th {\n        text-align: right;\n    }\n</style>\n<table border=\"1\" class=\"dataframe\">\n  <thead>\n    <tr style=\"text-align: right;\">\n      <th></th>\n      <th>date</th>\n      <th>title</th>\n      <th>text</th>\n    </tr>\n  </thead>\n  <tbody>\n    <tr>\n      <th>0</th>\n      <td>2023-04-21</td>\n      <td>Tour de UITM – Cycling to health on the Green ...</td>\n      <td>First edition of Tour de UITM! University of I...</td>\n    </tr>\n    <tr>\n      <th>1</th>\n      <td>2023-04-06</td>\n      <td>UITM’s Easter Extravaganza: Celebrating with F...</td>\n      <td>Traditional Polish dishes, e.g. sour rye soup,...</td>\n    </tr>\n    <tr>\n      <th>2</th>\n      <td>2023-03-31</td>\n      <td>Melting the Pot Festival Day 2: Student Talk S...</td>\n      <td>Four International Students Share Their Experi...</td>\n    </tr>\n    <tr>\n      <th>3</th>\n      <td>2023-03-31</td>\n      <td>The Melting Pot Festival kicks off at IQ Club</td>\n      <td>International students compete in the “What? W...</td>\n    </tr>\n    <tr>\n      <th>4</th>\n      <td>2023-03-27</td>\n      <td>Central Asia Day: Celebrating Culture, History...</td>\n      <td>International Student Support Office organized...</td>\n    </tr>\n    <tr>\n      <th>...</th>\n      <td>...</td>\n      <td>...</td>\n      <td>...</td>\n    </tr>\n    <tr>\n      <th>225</th>\n      <td>2018-06-08</td>\n      <td>UITM Ranked High in Prestigious „Perspektywy” ...</td>\n      <td>The latest Ranking of Non-Public Master Degree...</td>\n    </tr>\n    <tr>\n      <th>226</th>\n      <td>2018-05-24</td>\n      <td>UITM in Elite Group of Universities with UN Ce...</td>\n      <td>The University of Information Technology and M...</td>\n    </tr>\n    <tr>\n      <th>227</th>\n      <td>2018-05-24</td>\n      <td>UITM Students among scholarship holders of the...</td>\n      <td>The scholarships of the Minister of Science an...</td>\n    </tr>\n    <tr>\n      <th>228</th>\n      <td>2018-05-24</td>\n      <td>Millions for internships. Don’t miss this uniq...</td>\n      <td>Are you sure that your studies will prepare yo...</td>\n    </tr>\n    <tr>\n      <th>229</th>\n      <td>2018-05-24</td>\n      <td>UITM Receives University of Leaders 2017 Natio...</td>\n      <td>The University of Information Technology and M...</td>\n    </tr>\n  </tbody>\n</table>\n<p>230 rows × 3 columns</p>\n</div>"
     },
     "execution_count": 8,
     "metadata": {},
     "output_type": "execute_result"
    }
   ],
   "source": [
    "df['date'] = pd.to_datetime(df['date'], format='%d.%m.%Y')\n",
    "df"
   ],
   "metadata": {
    "collapsed": false,
    "ExecuteTime": {
     "start_time": "2023-05-10T22:03:06.514369Z",
     "end_time": "2023-05-10T22:03:06.522985Z"
    }
   }
  },
  {
   "cell_type": "code",
   "execution_count": 12,
   "outputs": [
    {
     "data": {
      "text/plain": "                                 date   \ncount                             230  \\\nunique                            NaN   \ntop                               NaN   \nfreq                              NaN   \nmean    2020-10-12 01:08:52.173913088   \nmin               2018-05-24 00:00:00   \n25%               2019-09-30 12:00:00   \n50%               2020-07-03 00:00:00   \n75%               2021-12-08 18:00:00   \nmax               2023-04-21 00:00:00   \n\n                                                    title   \ncount                                                 230  \\\nunique                                                224   \ntop     Financial Internet Quarterly – the latest issu...   \nfreq                                                    4   \nmean                                                  NaN   \nmin                                                   NaN   \n25%                                                   NaN   \n50%                                                   NaN   \n75%                                                   NaN   \nmax                                                   NaN   \n\n                                                     text  \ncount                                                 230  \nunique                                                229  \ntop     The Editorial Board of Financial Internet Quar...  \nfreq                                                    2  \nmean                                                  NaN  \nmin                                                   NaN  \n25%                                                   NaN  \n50%                                                   NaN  \n75%                                                   NaN  \nmax                                                   NaN  ",
      "text/html": "<div>\n<style scoped>\n    .dataframe tbody tr th:only-of-type {\n        vertical-align: middle;\n    }\n\n    .dataframe tbody tr th {\n        vertical-align: top;\n    }\n\n    .dataframe thead th {\n        text-align: right;\n    }\n</style>\n<table border=\"1\" class=\"dataframe\">\n  <thead>\n    <tr style=\"text-align: right;\">\n      <th></th>\n      <th>date</th>\n      <th>title</th>\n      <th>text</th>\n    </tr>\n  </thead>\n  <tbody>\n    <tr>\n      <th>count</th>\n      <td>230</td>\n      <td>230</td>\n      <td>230</td>\n    </tr>\n    <tr>\n      <th>unique</th>\n      <td>NaN</td>\n      <td>224</td>\n      <td>229</td>\n    </tr>\n    <tr>\n      <th>top</th>\n      <td>NaN</td>\n      <td>Financial Internet Quarterly – the latest issu...</td>\n      <td>The Editorial Board of Financial Internet Quar...</td>\n    </tr>\n    <tr>\n      <th>freq</th>\n      <td>NaN</td>\n      <td>4</td>\n      <td>2</td>\n    </tr>\n    <tr>\n      <th>mean</th>\n      <td>2020-10-12 01:08:52.173913088</td>\n      <td>NaN</td>\n      <td>NaN</td>\n    </tr>\n    <tr>\n      <th>min</th>\n      <td>2018-05-24 00:00:00</td>\n      <td>NaN</td>\n      <td>NaN</td>\n    </tr>\n    <tr>\n      <th>25%</th>\n      <td>2019-09-30 12:00:00</td>\n      <td>NaN</td>\n      <td>NaN</td>\n    </tr>\n    <tr>\n      <th>50%</th>\n      <td>2020-07-03 00:00:00</td>\n      <td>NaN</td>\n      <td>NaN</td>\n    </tr>\n    <tr>\n      <th>75%</th>\n      <td>2021-12-08 18:00:00</td>\n      <td>NaN</td>\n      <td>NaN</td>\n    </tr>\n    <tr>\n      <th>max</th>\n      <td>2023-04-21 00:00:00</td>\n      <td>NaN</td>\n      <td>NaN</td>\n    </tr>\n  </tbody>\n</table>\n</div>"
     },
     "execution_count": 12,
     "metadata": {},
     "output_type": "execute_result"
    }
   ],
   "source": [
    "df.describe(include='all')"
   ],
   "metadata": {
    "collapsed": false,
    "ExecuteTime": {
     "start_time": "2023-05-10T22:04:56.505485Z",
     "end_time": "2023-05-10T22:04:56.525100Z"
    }
   }
  },
  {
   "cell_type": "code",
   "execution_count": 13,
   "outputs": [
    {
     "data": {
      "text/plain": "date     datetime64[ns]\ntitle            object\ntext             object\ndtype: object"
     },
     "execution_count": 13,
     "metadata": {},
     "output_type": "execute_result"
    }
   ],
   "source": [
    "df.dtypes"
   ],
   "metadata": {
    "collapsed": false,
    "ExecuteTime": {
     "start_time": "2023-05-10T22:05:00.274638Z",
     "end_time": "2023-05-10T22:05:00.279569Z"
    }
   }
  },
  {
   "cell_type": "code",
   "execution_count": null,
   "outputs": [],
   "source": [],
   "metadata": {
    "collapsed": false
   }
  }
 ],
 "metadata": {
  "kernelspec": {
   "display_name": "Python 3",
   "language": "python",
   "name": "python3"
  },
  "language_info": {
   "codemirror_mode": {
    "name": "ipython",
    "version": 2
   },
   "file_extension": ".py",
   "mimetype": "text/x-python",
   "name": "python",
   "nbconvert_exporter": "python",
   "pygments_lexer": "ipython2",
   "version": "2.7.6"
  }
 },
 "nbformat": 4,
 "nbformat_minor": 0
}
